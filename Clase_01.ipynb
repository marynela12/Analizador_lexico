{
  "nbformat": 4,
  "nbformat_minor": 0,
  "metadata": {
    "colab": {
      "provenance": [],
      "authorship_tag": "ABX9TyM1LigkDjG090KHr0r7bKEA",
      "include_colab_link": true
    },
    "kernelspec": {
      "name": "python3",
      "display_name": "Python 3"
    },
    "language_info": {
      "name": "python"
    }
  },
  "cells": [
    {
      "cell_type": "markdown",
      "metadata": {
        "id": "view-in-github",
        "colab_type": "text"
      },
      "source": [
        "<a href=\"https://colab.research.google.com/github/marynela12/Analizador_lexico/blob/main/Clase_01.ipynb\" target=\"_parent\"><img src=\"https://colab.research.google.com/assets/colab-badge.svg\" alt=\"Open In Colab\"/></a>"
      ]
    },
    {
      "cell_type": "code",
      "execution_count": null,
      "metadata": {
        "id": "svRKMJ9NzVPF"
      },
      "outputs": [],
      "source": []
    },
    {
      "cell_type": "markdown",
      "source": [
        "\"Hoy nos presentamos al anfitrión del semillero IA. Le comentamos que somos estudiante de [Ingeneria de Software, por ejemplo: Ingeniería Informática, inteligencia artifical, etc.]. Le mencionamos que [tenemos conocimientos de Python, por ejemplo: conocimientos básicos, o si no tienes experiencia, puedes decir que tienes muchas ganas de aprender]. Finalmente, expresamos que nos ha gustado mucho el curso del semillero IA y nos parece muy interesante/útil/enriquecedor, o cualquier otra opinión positiva que tengas.\" Como  es un aprendizaje de redes nuronales"
      ],
      "metadata": {
        "id": "7vUSgPSK1KVr"
      }
    }
  ]
}